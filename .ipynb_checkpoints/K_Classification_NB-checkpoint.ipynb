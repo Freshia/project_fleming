{
 "cells": [
  {
   "cell_type": "code",
   "execution_count": 1,
   "metadata": {},
   "outputs": [],
   "source": [
    "import pandas as pd"
   ]
  },
  {
   "cell_type": "markdown",
   "metadata": {},
   "source": [
    "Pre-Processing the train data"
   ]
  },
  {
   "cell_type": "code",
   "execution_count": 12,
   "metadata": {},
   "outputs": [
    {
     "name": "stdout",
     "output_type": "stream",
     "text": [
      "  Surgery Age Hospital Number Rectal Temp Pulse Respiratory Rate  \\\n",
      "0       2   1          530101       38.50    66               28   \n",
      "1       1   1          534817        39.2    88               20   \n",
      "2       2   1          530334       38.30    40               24   \n",
      "3       1   9         5290409       39.10   164               84   \n",
      "4       2   1          530255       37.30   104               35   \n",
      "\n",
      "  temperature of extremities peripheral pulse mucous membranes  \\\n",
      "0                          3                3                ?   \n",
      "1                          ?                ?                4   \n",
      "2                          1                1                3   \n",
      "3                          4                1                6   \n",
      "4                          ?                ?                6   \n",
      "\n",
      "  capillary refill time  ... packed cell volume total protein  \\\n",
      "0                     2  ...              45.00          8.40   \n",
      "1                     1  ...                 50            85   \n",
      "2                     1  ...              33.00          6.70   \n",
      "3                     2  ...              48.00          7.20   \n",
      "4                     2  ...              74.00          7.40   \n",
      "\n",
      "  abdominocentesis appearance abdomcentesis total protein outcome  \\\n",
      "0                           ?                           ?       2   \n",
      "1                           2                           2       3   \n",
      "2                           ?                           ?       1   \n",
      "3                           3                        5.30       2   \n",
      "4                           ?                           ?       2   \n",
      "\n",
      "  surgical lesion site of lesion type of lesion subtype of lesion cp_data  \n",
      "0               2          11300          00000             00000       2  \n",
      "1               2          02208          00000             00000       2  \n",
      "2               2          00000          00000             00000       1  \n",
      "3               1          02208          00000             00000       1  \n",
      "4               2          04300          00000             00000       2  \n",
      "\n",
      "[5 rows x 28 columns]\n"
     ]
    }
   ],
   "source": [
    "file_path = \"./horse-colic.data\"\n",
    "\n",
    "char_count = 0\n",
    "\n",
    "train_data =  []\n",
    "single_data_entry = []\n",
    "train_target = []\n",
    "\n",
    "with open(file_path,'r') as f:\n",
    "     for line in f:\n",
    "       split_words = line.split()\n",
    "       for word in split_words:\n",
    "            single_data_entry.append(word)\n",
    "#             if char_count==22:\n",
    "#                 train_target.append(word)\n",
    "#             else: \n",
    "#                 single_data_entry.append(word)\n",
    "            if char_count==27:\n",
    "                train_data.append(single_data_entry)\n",
    "                single_data_entry = []\n",
    "                char_count = -1\n",
    "            char_count = char_count +1\n",
    "\n",
    "# Create the pandas DataFrame  \n",
    "df = pd.DataFrame(train_data, columns = ['Surgery', 'Age','Hospital Number','Rectal Temp', 'Pulse','Respiratory Rate',\n",
    "    'temperature of extremities','peripheral pulse','mucous membranes','capillary refill time','pain','peristalsis','abdominal distension',\n",
    "    'nasogastric tube','nasogastric reflux','nasogastric reflux PH','rectal examination','abdomen','packed cell volume','total protein',\n",
    "    'abdominocentesis appearance','abdomcentesis total protein','outcome','surgical lesion','site of lesion','type of lesion','subtype of lesion','cp_data'\n",
    "    ])  \n",
    "  \n",
    "# print dataframe.\n",
    "print(df.head(5) )"
   ]
  },
  {
   "cell_type": "markdown",
   "metadata": {},
   "source": [
    "Test data pre_processing"
   ]
  },
  {
   "cell_type": "code",
   "execution_count": 22,
   "metadata": {},
   "outputs": [
    {
     "name": "stdout",
     "output_type": "stream",
     "text": [
      "  Surgery Age Hospital Number Rectal Temp Pulse Respiratory Rate  \\\n",
      "0       2   1          530101       38.50    66               28   \n",
      "1       1   1          534817        39.2    88               20   \n",
      "2       2   1          530334       38.30    40               24   \n",
      "3       1   9         5290409       39.10   164               84   \n",
      "4       2   1          530255       37.30   104               35   \n",
      "\n",
      "  temperature of extremities peripheral pulse mucous membranes  \\\n",
      "0                          3                3                ?   \n",
      "1                          ?                ?                4   \n",
      "2                          1                1                3   \n",
      "3                          4                1                6   \n",
      "4                          ?                ?                6   \n",
      "\n",
      "  capillary refill time  ... packed cell volume total protein  \\\n",
      "0                     2  ...              45.00          8.40   \n",
      "1                     1  ...                 50            85   \n",
      "2                     1  ...              33.00          6.70   \n",
      "3                     2  ...              48.00          7.20   \n",
      "4                     2  ...              74.00          7.40   \n",
      "\n",
      "  abdominocentesis appearance abdomcentesis total protein outcome  \\\n",
      "0                           ?                           ?       2   \n",
      "1                           2                           2       3   \n",
      "2                           ?                           ?       1   \n",
      "3                           3                        5.30       2   \n",
      "4                           ?                           ?       2   \n",
      "\n",
      "  surgical lesion site of lesion type of lesion subtype of lesion cp_data  \n",
      "0               2          11300          00000             00000       2  \n",
      "1               2          02208          00000             00000       2  \n",
      "2               2          00000          00000             00000       1  \n",
      "3               1          02208          00000             00000       1  \n",
      "4               2          04300          00000             00000       2  \n",
      "\n",
      "[5 rows x 28 columns]\n",
      "processed test data\n"
     ]
    }
   ],
   "source": [
    "file_path = \"./horse-colic.test\"\n",
    "\n",
    "char_count = 0\n",
    "\n",
    "test_data =  []\n",
    "single_data_entry = []\n",
    "test_target = []\n",
    "\n",
    "with open(file_path,'r') as f:\n",
    "     for line in f:\n",
    "       split_words = line.split()\n",
    "       for word in split_words:\n",
    "            single_data_entry.append(word)\n",
    "#             if char_count==22:\n",
    "#                 test_target.append(word)\n",
    "#             else: \n",
    "#                 single_data_entry.append(word)\n",
    "            if char_count==27:\n",
    "                test_data.append(single_data_entry)\n",
    "                single_data_entry = []\n",
    "                char_count = -1\n",
    "            char_count = char_count +1\n",
    "df_cols = ['Surgery', 'Age','Hospital Number','Rectal Temp', 'Pulse','Respiratory Rate',\n",
    "    'temperature of extremities','peripheral pulse','mucous membranes','capillary refill time','pain','peristalsis','abdominal distension',\n",
    "    'nasogastric tube','nasogastric reflux','nasogastric reflux PH','rectal examination','abdomen','packed cell volume','total protein',\n",
    "    'abdominocentesis appearance','abdomcentesis total protein','outcome','surgical lesion','site of lesion','type of lesion','subtype of lesion','cp_data'\n",
    "    ]          \n",
    "# Create the pandas DataFrame  \n",
    "test_df = pd.DataFrame(test_data, columns =df_cols )  \n",
    "  \n",
    "# print dataframe.\n",
    "print(df.head(5) )\n",
    "print(\"processed test data\")\n"
   ]
  },
  {
   "cell_type": "code",
   "execution_count": 16,
   "metadata": {},
   "outputs": [
    {
     "name": "stdout",
     "output_type": "stream",
     "text": [
      "<bound method NDFrame.head of 0     1\n",
      "1     1\n",
      "2     1\n",
      "3     3\n",
      "4     1\n",
      "     ..\n",
      "63    1\n",
      "64    1\n",
      "65    3\n",
      "66    1\n",
      "67    2\n",
      "Name: outcome, Length: 68, dtype: object>\n"
     ]
    }
   ],
   "source": [
    "x_test = test_df.drop(['cp_data'], axis=1)\n",
    "y_test = test_df.outcome\n",
    "print(y_test.head)"
   ]
  },
  {
   "cell_type": "markdown",
   "metadata": {},
   "source": [
    "Taking care of missing values"
   ]
  },
  {
   "cell_type": "code",
   "execution_count": 17,
   "metadata": {},
   "outputs": [],
   "source": [
    "from sklearn.impute import KNNImputer"
   ]
  },
  {
   "cell_type": "code",
   "execution_count": 18,
   "metadata": {},
   "outputs": [],
   "source": [
    "imputer = KNNImputer(n_neighbors=2)"
   ]
  },
  {
   "cell_type": "code",
   "execution_count": 29,
   "metadata": {},
   "outputs": [
    {
     "name": "stdout",
     "output_type": "stream",
     "text": [
      "   Surgery  Age  Hospital Number  Rectal Temp  Pulse  Respiratory Rate  \\\n",
      "0        1    0              245           29     24                37   \n",
      "1        0    0               76           42     37                32   \n",
      "2        1    0              265           24      7                23   \n",
      "3        0    1              192           41     52                22   \n",
      "4        1    0              256           63      1                 2   \n",
      "\n",
      "   temperature of extremities  peripheral pulse  mucous membranes  \\\n",
      "0                           2                 2                 6   \n",
      "1                           4                 4                 3   \n",
      "2                           0                 0                 2   \n",
      "3                           3                 0                 5   \n",
      "4                           4                 4                 5   \n",
      "\n",
      "   capillary refill time  ...  packed cell volume  total protein  \\\n",
      "0                      1  ...                  21             63   \n",
      "1                      0  ...                  32             75   \n",
      "2                      0  ...                  12             19   \n",
      "3                      1  ...                  29             39   \n",
      "4                      1  ...                  73             42   \n",
      "\n",
      "   abdominocentesis appearance  abdomcentesis total protein  outcome  \\\n",
      "0                            3                           27        1   \n",
      "1                            1                           33        2   \n",
      "2                            3                           27        0   \n",
      "3                            2                           20        1   \n",
      "4                            3                           27        1   \n",
      "\n",
      "   surgical lesion  site of lesion  type of lesion  subtype of lesion  cp_data  \n",
      "0                1              47               0                  0        1  \n",
      "1                1              45               0                  0        1  \n",
      "2                1               0               0                  0        0  \n",
      "3                0              45               0                  0        0  \n",
      "4                1              24               0                  0        1  \n",
      "\n",
      "[5 rows x 28 columns]\n",
      "   Surgery  Age  Hospital Number  Rectal Temp  Pulse  Respiratory Rate  \\\n",
      "0        1    0               22           24     13                 4   \n",
      "1        1    0               11            7     11                 9   \n",
      "2        0    0               63            8      9                 6   \n",
      "3        0    0               56            2     15                 5   \n",
      "4        1    0               24           15      8                 1   \n",
      "\n",
      "   temperature of extremities  peripheral pulse  mucous membranes  \\\n",
      "0                           4                 0                 1   \n",
      "1                           4                 4                 0   \n",
      "2                           4                 3                 2   \n",
      "3                           2                 0                 3   \n",
      "4                           2                 4                 2   \n",
      "\n",
      "   capillary refill time  ...  packed cell volume  total protein  \\\n",
      "0                      1  ...                  16              9   \n",
      "1                      0  ...                  19              9   \n",
      "2                      1  ...                  20             24   \n",
      "3                      1  ...                   6             17   \n",
      "4                      0  ...                  10              3   \n",
      "\n",
      "   abdominocentesis appearance  abdomcentesis total protein  outcome  \\\n",
      "0                            3                           19        0   \n",
      "1                            0                           15        0   \n",
      "2                            2                            5        0   \n",
      "3                            2                            5        2   \n",
      "4                            3                           19        0   \n",
      "\n",
      "   surgical lesion  site of lesion  type of lesion  subtype of lesion  cp_data  \n",
      "0                1              12               0                  0        0  \n",
      "1                1              12               0                  0        0  \n",
      "2                0              15               0                  0        1  \n",
      "3                1               7               1                  0        1  \n",
      "4                1              12               0                  0        1  \n",
      "\n",
      "[5 rows x 28 columns]\n",
      "test\n"
     ]
    }
   ],
   "source": [
    "from sklearn import preprocessing\n",
    "#label encoding the dataframes\n",
    "le = preprocessing.LabelEncoder()\n",
    "for i in range(len(df_cols)):\n",
    "    le.fit(df[df_cols[i]].astype(str))\n",
    "    df[df_cols[i]] = le.transform(df[df_cols[i]].astype(str))\n",
    "    \n",
    "print(df.head(5))\n",
    "for i in range(len(df_cols)):\n",
    "    le.fit(test_df[df_cols[i]].astype(str))\n",
    "    test_df[df_cols[i]] = le.transform(test_df[df_cols[i]].astype(str))\n",
    "    \n",
    "print(test_df.head(5))\n"
   ]
  },
  {
   "cell_type": "code",
   "execution_count": null,
   "metadata": {},
   "outputs": [],
   "source": []
  },
  {
   "cell_type": "code",
   "execution_count": 26,
   "metadata": {},
   "outputs": [
    {
     "ename": "ValueError",
     "evalue": "could not convert string to float: '?'",
     "output_type": "error",
     "traceback": [
      "\u001b[1;31m---------------------------------------------------------------------------\u001b[0m",
      "\u001b[1;31mValueError\u001b[0m                                Traceback (most recent call last)",
      "\u001b[1;32m<ipython-input-26-8a9f8ad5c071>\u001b[0m in \u001b[0;36m<module>\u001b[1;34m\u001b[0m\n\u001b[0;32m      1\u001b[0m \u001b[0mdf_filled\u001b[0m \u001b[1;33m=\u001b[0m \u001b[0mimputer\u001b[0m\u001b[1;33m.\u001b[0m\u001b[0mfit_transform\u001b[0m\u001b[1;33m(\u001b[0m\u001b[0mdf\u001b[0m\u001b[1;33m)\u001b[0m\u001b[1;33m\u001b[0m\u001b[1;33m\u001b[0m\u001b[0m\n\u001b[1;32m----> 2\u001b[1;33m \u001b[0mtest_df_filled\u001b[0m \u001b[1;33m=\u001b[0m \u001b[0mimputer\u001b[0m\u001b[1;33m.\u001b[0m\u001b[0mfit_transform\u001b[0m\u001b[1;33m(\u001b[0m\u001b[0mtest_df\u001b[0m\u001b[1;33m)\u001b[0m\u001b[1;33m\u001b[0m\u001b[1;33m\u001b[0m\u001b[0m\n\u001b[0m",
      "\u001b[1;32mc:\\users\\admin\\appdata\\local\\programs\\python\\python38-32\\lib\\site-packages\\sklearn\\base.py\u001b[0m in \u001b[0;36mfit_transform\u001b[1;34m(self, X, y, **fit_params)\u001b[0m\n\u001b[0;32m    688\u001b[0m         \u001b[1;32mif\u001b[0m \u001b[0my\u001b[0m \u001b[1;32mis\u001b[0m \u001b[1;32mNone\u001b[0m\u001b[1;33m:\u001b[0m\u001b[1;33m\u001b[0m\u001b[1;33m\u001b[0m\u001b[0m\n\u001b[0;32m    689\u001b[0m             \u001b[1;31m# fit method of arity 1 (unsupervised transformation)\u001b[0m\u001b[1;33m\u001b[0m\u001b[1;33m\u001b[0m\u001b[1;33m\u001b[0m\u001b[0m\n\u001b[1;32m--> 690\u001b[1;33m             \u001b[1;32mreturn\u001b[0m \u001b[0mself\u001b[0m\u001b[1;33m.\u001b[0m\u001b[0mfit\u001b[0m\u001b[1;33m(\u001b[0m\u001b[0mX\u001b[0m\u001b[1;33m,\u001b[0m \u001b[1;33m**\u001b[0m\u001b[0mfit_params\u001b[0m\u001b[1;33m)\u001b[0m\u001b[1;33m.\u001b[0m\u001b[0mtransform\u001b[0m\u001b[1;33m(\u001b[0m\u001b[0mX\u001b[0m\u001b[1;33m)\u001b[0m\u001b[1;33m\u001b[0m\u001b[1;33m\u001b[0m\u001b[0m\n\u001b[0m\u001b[0;32m    691\u001b[0m         \u001b[1;32melse\u001b[0m\u001b[1;33m:\u001b[0m\u001b[1;33m\u001b[0m\u001b[1;33m\u001b[0m\u001b[0m\n\u001b[0;32m    692\u001b[0m             \u001b[1;31m# fit method of arity 2 (supervised transformation)\u001b[0m\u001b[1;33m\u001b[0m\u001b[1;33m\u001b[0m\u001b[1;33m\u001b[0m\u001b[0m\n",
      "\u001b[1;32mc:\\users\\admin\\appdata\\local\\programs\\python\\python38-32\\lib\\site-packages\\sklearn\\impute\\_knn.py\u001b[0m in \u001b[0;36mfit\u001b[1;34m(self, X, y)\u001b[0m\n\u001b[0;32m    182\u001b[0m                 \"Expected n_neighbors > 0. Got {}\".format(self.n_neighbors))\n\u001b[0;32m    183\u001b[0m \u001b[1;33m\u001b[0m\u001b[0m\n\u001b[1;32m--> 184\u001b[1;33m         X = self._validate_data(X, accept_sparse=False, dtype=FLOAT_DTYPES,\n\u001b[0m\u001b[0;32m    185\u001b[0m                                 \u001b[0mforce_all_finite\u001b[0m\u001b[1;33m=\u001b[0m\u001b[0mforce_all_finite\u001b[0m\u001b[1;33m,\u001b[0m\u001b[1;33m\u001b[0m\u001b[1;33m\u001b[0m\u001b[0m\n\u001b[0;32m    186\u001b[0m                                 copy=self.copy)\n",
      "\u001b[1;32mc:\\users\\admin\\appdata\\local\\programs\\python\\python38-32\\lib\\site-packages\\sklearn\\base.py\u001b[0m in \u001b[0;36m_validate_data\u001b[1;34m(self, X, y, reset, validate_separately, **check_params)\u001b[0m\n\u001b[0;32m    418\u001b[0m                     \u001b[1;34mf\"requires y to be passed, but the target y is None.\"\u001b[0m\u001b[1;33m\u001b[0m\u001b[1;33m\u001b[0m\u001b[0m\n\u001b[0;32m    419\u001b[0m                 )\n\u001b[1;32m--> 420\u001b[1;33m             \u001b[0mX\u001b[0m \u001b[1;33m=\u001b[0m \u001b[0mcheck_array\u001b[0m\u001b[1;33m(\u001b[0m\u001b[0mX\u001b[0m\u001b[1;33m,\u001b[0m \u001b[1;33m**\u001b[0m\u001b[0mcheck_params\u001b[0m\u001b[1;33m)\u001b[0m\u001b[1;33m\u001b[0m\u001b[1;33m\u001b[0m\u001b[0m\n\u001b[0m\u001b[0;32m    421\u001b[0m             \u001b[0mout\u001b[0m \u001b[1;33m=\u001b[0m \u001b[0mX\u001b[0m\u001b[1;33m\u001b[0m\u001b[1;33m\u001b[0m\u001b[0m\n\u001b[0;32m    422\u001b[0m         \u001b[1;32melse\u001b[0m\u001b[1;33m:\u001b[0m\u001b[1;33m\u001b[0m\u001b[1;33m\u001b[0m\u001b[0m\n",
      "\u001b[1;32mc:\\users\\admin\\appdata\\local\\programs\\python\\python38-32\\lib\\site-packages\\sklearn\\utils\\validation.py\u001b[0m in \u001b[0;36minner_f\u001b[1;34m(*args, **kwargs)\u001b[0m\n\u001b[0;32m     71\u001b[0m                           FutureWarning)\n\u001b[0;32m     72\u001b[0m         \u001b[0mkwargs\u001b[0m\u001b[1;33m.\u001b[0m\u001b[0mupdate\u001b[0m\u001b[1;33m(\u001b[0m\u001b[1;33m{\u001b[0m\u001b[0mk\u001b[0m\u001b[1;33m:\u001b[0m \u001b[0marg\u001b[0m \u001b[1;32mfor\u001b[0m \u001b[0mk\u001b[0m\u001b[1;33m,\u001b[0m \u001b[0marg\u001b[0m \u001b[1;32min\u001b[0m \u001b[0mzip\u001b[0m\u001b[1;33m(\u001b[0m\u001b[0msig\u001b[0m\u001b[1;33m.\u001b[0m\u001b[0mparameters\u001b[0m\u001b[1;33m,\u001b[0m \u001b[0margs\u001b[0m\u001b[1;33m)\u001b[0m\u001b[1;33m}\u001b[0m\u001b[1;33m)\u001b[0m\u001b[1;33m\u001b[0m\u001b[1;33m\u001b[0m\u001b[0m\n\u001b[1;32m---> 73\u001b[1;33m         \u001b[1;32mreturn\u001b[0m \u001b[0mf\u001b[0m\u001b[1;33m(\u001b[0m\u001b[1;33m**\u001b[0m\u001b[0mkwargs\u001b[0m\u001b[1;33m)\u001b[0m\u001b[1;33m\u001b[0m\u001b[1;33m\u001b[0m\u001b[0m\n\u001b[0m\u001b[0;32m     74\u001b[0m     \u001b[1;32mreturn\u001b[0m \u001b[0minner_f\u001b[0m\u001b[1;33m\u001b[0m\u001b[1;33m\u001b[0m\u001b[0m\n\u001b[0;32m     75\u001b[0m \u001b[1;33m\u001b[0m\u001b[0m\n",
      "\u001b[1;32mc:\\users\\admin\\appdata\\local\\programs\\python\\python38-32\\lib\\site-packages\\sklearn\\utils\\validation.py\u001b[0m in \u001b[0;36mcheck_array\u001b[1;34m(array, accept_sparse, accept_large_sparse, dtype, order, copy, force_all_finite, ensure_2d, allow_nd, ensure_min_samples, ensure_min_features, estimator)\u001b[0m\n\u001b[0;32m    597\u001b[0m                     \u001b[0marray\u001b[0m \u001b[1;33m=\u001b[0m \u001b[0marray\u001b[0m\u001b[1;33m.\u001b[0m\u001b[0mastype\u001b[0m\u001b[1;33m(\u001b[0m\u001b[0mdtype\u001b[0m\u001b[1;33m,\u001b[0m \u001b[0mcasting\u001b[0m\u001b[1;33m=\u001b[0m\u001b[1;34m\"unsafe\"\u001b[0m\u001b[1;33m,\u001b[0m \u001b[0mcopy\u001b[0m\u001b[1;33m=\u001b[0m\u001b[1;32mFalse\u001b[0m\u001b[1;33m)\u001b[0m\u001b[1;33m\u001b[0m\u001b[1;33m\u001b[0m\u001b[0m\n\u001b[0;32m    598\u001b[0m                 \u001b[1;32melse\u001b[0m\u001b[1;33m:\u001b[0m\u001b[1;33m\u001b[0m\u001b[1;33m\u001b[0m\u001b[0m\n\u001b[1;32m--> 599\u001b[1;33m                     \u001b[0marray\u001b[0m \u001b[1;33m=\u001b[0m \u001b[0mnp\u001b[0m\u001b[1;33m.\u001b[0m\u001b[0masarray\u001b[0m\u001b[1;33m(\u001b[0m\u001b[0marray\u001b[0m\u001b[1;33m,\u001b[0m \u001b[0morder\u001b[0m\u001b[1;33m=\u001b[0m\u001b[0morder\u001b[0m\u001b[1;33m,\u001b[0m \u001b[0mdtype\u001b[0m\u001b[1;33m=\u001b[0m\u001b[0mdtype\u001b[0m\u001b[1;33m)\u001b[0m\u001b[1;33m\u001b[0m\u001b[1;33m\u001b[0m\u001b[0m\n\u001b[0m\u001b[0;32m    600\u001b[0m             \u001b[1;32mexcept\u001b[0m \u001b[0mComplexWarning\u001b[0m\u001b[1;33m:\u001b[0m\u001b[1;33m\u001b[0m\u001b[1;33m\u001b[0m\u001b[0m\n\u001b[0;32m    601\u001b[0m                 raise ValueError(\"Complex data not supported\\n\"\n",
      "\u001b[1;32mc:\\users\\admin\\appdata\\local\\programs\\python\\python38-32\\lib\\site-packages\\numpy\\core\\_asarray.py\u001b[0m in \u001b[0;36masarray\u001b[1;34m(a, dtype, order)\u001b[0m\n\u001b[0;32m     81\u001b[0m \u001b[1;33m\u001b[0m\u001b[0m\n\u001b[0;32m     82\u001b[0m     \"\"\"\n\u001b[1;32m---> 83\u001b[1;33m     \u001b[1;32mreturn\u001b[0m \u001b[0marray\u001b[0m\u001b[1;33m(\u001b[0m\u001b[0ma\u001b[0m\u001b[1;33m,\u001b[0m \u001b[0mdtype\u001b[0m\u001b[1;33m,\u001b[0m \u001b[0mcopy\u001b[0m\u001b[1;33m=\u001b[0m\u001b[1;32mFalse\u001b[0m\u001b[1;33m,\u001b[0m \u001b[0morder\u001b[0m\u001b[1;33m=\u001b[0m\u001b[0morder\u001b[0m\u001b[1;33m)\u001b[0m\u001b[1;33m\u001b[0m\u001b[1;33m\u001b[0m\u001b[0m\n\u001b[0m\u001b[0;32m     84\u001b[0m \u001b[1;33m\u001b[0m\u001b[0m\n\u001b[0;32m     85\u001b[0m \u001b[1;33m\u001b[0m\u001b[0m\n",
      "\u001b[1;31mValueError\u001b[0m: could not convert string to float: '?'"
     ]
    }
   ],
   "source": [
    "df_filled = imputer.fit_transform(df)\n",
    "test_df_filled = imputer.fit_transform(test_df)"
   ]
  },
  {
   "cell_type": "markdown",
   "metadata": {},
   "source": [
    "Doing the K Nearest Neighbours Classification"
   ]
  },
  {
   "cell_type": "code",
   "execution_count": 8,
   "metadata": {},
   "outputs": [],
   "source": [
    "#Making necessary imports\n",
    "import numpy as np\n",
    "import matplotlib as plt\n",
    "import pandas as pd\n",
    "from sklearn import datasets,preprocessing,neighbors,model_selection\n",
    "from sklearn.model_selection import cross_validate"
   ]
  },
  {
   "cell_type": "code",
   "execution_count": 9,
   "metadata": {},
   "outputs": [
    {
     "name": "stderr",
     "output_type": "stream",
     "text": [
      "c:\\users\\admin\\appdata\\local\\programs\\python\\python38-32\\lib\\site-packages\\sklearn\\utils\\validation.py:73: FutureWarning: Beginning in version 0.22, arrays of bytes/strings will be converted to decimal numbers if dtype='numeric'. It is recommended that you convert the array to a float dtype before using it in scikit-learn, for example by using your_array = your_array.astype(np.float64).\n",
      "  return f(**kwargs)\n",
      "c:\\users\\admin\\appdata\\local\\programs\\python\\python38-32\\lib\\site-packages\\sklearn\\utils\\validation.py:73: FutureWarning: Beginning in version 0.22, arrays of bytes/strings will be converted to decimal numbers if dtype='numeric'. It is recommended that you convert the array to a float dtype before using it in scikit-learn, for example by using your_array = your_array.astype(np.float64).\n",
      "  return f(**kwargs)\n"
     ]
    },
    {
     "ename": "ValueError",
     "evalue": "could not convert string to float: '?'",
     "output_type": "error",
     "traceback": [
      "\u001b[1;31m---------------------------------------------------------------------------\u001b[0m",
      "\u001b[1;31mValueError\u001b[0m                                Traceback (most recent call last)",
      "\u001b[1;32m<ipython-input-9-daa365744e1b>\u001b[0m in \u001b[0;36m<module>\u001b[1;34m\u001b[0m\n\u001b[0;32m      3\u001b[0m \u001b[0my_train\u001b[0m \u001b[1;33m=\u001b[0m \u001b[0mnp\u001b[0m\u001b[1;33m.\u001b[0m\u001b[0marray\u001b[0m\u001b[1;33m(\u001b[0m\u001b[0mtrain_target\u001b[0m\u001b[1;33m)\u001b[0m\u001b[1;33m\u001b[0m\u001b[1;33m\u001b[0m\u001b[0m\n\u001b[0;32m      4\u001b[0m \u001b[0mclf\u001b[0m \u001b[1;33m=\u001b[0m \u001b[0mneighbors\u001b[0m\u001b[1;33m.\u001b[0m\u001b[0mKNeighborsClassifier\u001b[0m\u001b[1;33m(\u001b[0m\u001b[1;33m)\u001b[0m\u001b[1;33m\u001b[0m\u001b[1;33m\u001b[0m\u001b[0m\n\u001b[1;32m----> 5\u001b[1;33m \u001b[0mclf\u001b[0m\u001b[1;33m.\u001b[0m\u001b[0mfit\u001b[0m\u001b[1;33m(\u001b[0m\u001b[0mx_train\u001b[0m\u001b[1;33m,\u001b[0m \u001b[0my_train\u001b[0m\u001b[1;33m)\u001b[0m\u001b[1;33m\u001b[0m\u001b[1;33m\u001b[0m\u001b[0m\n\u001b[0m",
      "\u001b[1;32mc:\\users\\admin\\appdata\\local\\programs\\python\\python38-32\\lib\\site-packages\\sklearn\\neighbors\\_base.py\u001b[0m in \u001b[0;36mfit\u001b[1;34m(self, X, y)\u001b[0m\n\u001b[0;32m   1155\u001b[0m             \u001b[0mself\u001b[0m\u001b[1;33m.\u001b[0m\u001b[0m_y\u001b[0m \u001b[1;33m=\u001b[0m \u001b[0mself\u001b[0m\u001b[1;33m.\u001b[0m\u001b[0m_y\u001b[0m\u001b[1;33m.\u001b[0m\u001b[0mravel\u001b[0m\u001b[1;33m(\u001b[0m\u001b[1;33m)\u001b[0m\u001b[1;33m\u001b[0m\u001b[1;33m\u001b[0m\u001b[0m\n\u001b[0;32m   1156\u001b[0m \u001b[1;33m\u001b[0m\u001b[0m\n\u001b[1;32m-> 1157\u001b[1;33m         \u001b[1;32mreturn\u001b[0m \u001b[0mself\u001b[0m\u001b[1;33m.\u001b[0m\u001b[0m_fit\u001b[0m\u001b[1;33m(\u001b[0m\u001b[0mX\u001b[0m\u001b[1;33m)\u001b[0m\u001b[1;33m\u001b[0m\u001b[1;33m\u001b[0m\u001b[0m\n\u001b[0m\u001b[0;32m   1158\u001b[0m \u001b[1;33m\u001b[0m\u001b[0m\n\u001b[0;32m   1159\u001b[0m     \u001b[1;32mdef\u001b[0m \u001b[0m_more_tags\u001b[0m\u001b[1;33m(\u001b[0m\u001b[0mself\u001b[0m\u001b[1;33m)\u001b[0m\u001b[1;33m:\u001b[0m\u001b[1;33m\u001b[0m\u001b[1;33m\u001b[0m\u001b[0m\n",
      "\u001b[1;32mc:\\users\\admin\\appdata\\local\\programs\\python\\python38-32\\lib\\site-packages\\sklearn\\neighbors\\_base.py\u001b[0m in \u001b[0;36m_fit\u001b[1;34m(self, X)\u001b[0m\n\u001b[0;32m    454\u001b[0m                                   **self.effective_metric_params_)\n\u001b[0;32m    455\u001b[0m         \u001b[1;32melif\u001b[0m \u001b[0mself\u001b[0m\u001b[1;33m.\u001b[0m\u001b[0m_fit_method\u001b[0m \u001b[1;33m==\u001b[0m \u001b[1;34m'kd_tree'\u001b[0m\u001b[1;33m:\u001b[0m\u001b[1;33m\u001b[0m\u001b[1;33m\u001b[0m\u001b[0m\n\u001b[1;32m--> 456\u001b[1;33m             self._tree = KDTree(X, self.leaf_size,\n\u001b[0m\u001b[0;32m    457\u001b[0m                                 \u001b[0mmetric\u001b[0m\u001b[1;33m=\u001b[0m\u001b[0mself\u001b[0m\u001b[1;33m.\u001b[0m\u001b[0meffective_metric_\u001b[0m\u001b[1;33m,\u001b[0m\u001b[1;33m\u001b[0m\u001b[1;33m\u001b[0m\u001b[0m\n\u001b[0;32m    458\u001b[0m                                 **self.effective_metric_params_)\n",
      "\u001b[1;32msklearn\\neighbors\\_binary_tree.pxi\u001b[0m in \u001b[0;36msklearn.neighbors._kd_tree.BinaryTree.__init__\u001b[1;34m()\u001b[0m\n",
      "\u001b[1;32mc:\\users\\admin\\appdata\\local\\programs\\python\\python38-32\\lib\\site-packages\\numpy\\core\\_asarray.py\u001b[0m in \u001b[0;36masarray\u001b[1;34m(a, dtype, order)\u001b[0m\n\u001b[0;32m     81\u001b[0m \u001b[1;33m\u001b[0m\u001b[0m\n\u001b[0;32m     82\u001b[0m     \"\"\"\n\u001b[1;32m---> 83\u001b[1;33m     \u001b[1;32mreturn\u001b[0m \u001b[0marray\u001b[0m\u001b[1;33m(\u001b[0m\u001b[0ma\u001b[0m\u001b[1;33m,\u001b[0m \u001b[0mdtype\u001b[0m\u001b[1;33m,\u001b[0m \u001b[0mcopy\u001b[0m\u001b[1;33m=\u001b[0m\u001b[1;32mFalse\u001b[0m\u001b[1;33m,\u001b[0m \u001b[0morder\u001b[0m\u001b[1;33m=\u001b[0m\u001b[0morder\u001b[0m\u001b[1;33m)\u001b[0m\u001b[1;33m\u001b[0m\u001b[1;33m\u001b[0m\u001b[0m\n\u001b[0m\u001b[0;32m     84\u001b[0m \u001b[1;33m\u001b[0m\u001b[0m\n\u001b[0;32m     85\u001b[0m \u001b[1;33m\u001b[0m\u001b[0m\n",
      "\u001b[1;31mValueError\u001b[0m: could not convert string to float: '?'"
     ]
    }
   ],
   "source": [
    "#the classifier\n",
    "# x_train = np.array(train_data)\n",
    "# y_train = np.array(train_target)\n",
    "clf = neighbors.KNeighborsClassifier()\n",
    "clf.fit(x_train, y_train)"
   ]
  },
  {
   "cell_type": "code",
   "execution_count": null,
   "metadata": {},
   "outputs": [],
   "source": [
    "#Accuracy test\n",
    "# x_test = np.array(test_data)\n",
    "# y_test = np.array(test_target)\n",
    "accuracy = clf.score(x_test, y_test)\n",
    "print(accuracy)"
   ]
  },
  {
   "cell_type": "code",
   "execution_count": null,
   "metadata": {},
   "outputs": [],
   "source": []
  }
 ],
 "metadata": {
  "kernelspec": {
   "display_name": "Python 3",
   "language": "python",
   "name": "python3"
  },
  "language_info": {
   "codemirror_mode": {
    "name": "ipython",
    "version": 3
   },
   "file_extension": ".py",
   "mimetype": "text/x-python",
   "name": "python",
   "nbconvert_exporter": "python",
   "pygments_lexer": "ipython3",
   "version": "3.8.3"
  }
 },
 "nbformat": 4,
 "nbformat_minor": 4
}
