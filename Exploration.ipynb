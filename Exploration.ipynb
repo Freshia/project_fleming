{
 "cells": [
  {
   "cell_type": "code",
   "execution_count": 1,
   "metadata": {},
   "outputs": [],
   "source": [
    "import pandas as pd"
   ]
  },
  {
   "cell_type": "code",
   "execution_count": 2,
   "metadata": {},
   "outputs": [],
   "source": [
    "file_path = \"./horse-colic.data\"\n",
    "\n",
    "char_count = 0\n",
    "\n",
    "train_data =  []\n",
    "single_data_entry = []\n",
    "train_target = []\n",
    "\n",
    "with open(file_path,'r') as f:\n",
    "     for line in f:\n",
    "       split_words = line.split()\n",
    "       for word in split_words:\n",
    "            single_data_entry.append(word)\n",
    "#             if char_count==22:\n",
    "#                 train_target.append(word)\n",
    "#             else: \n",
    "#                 single_data_entry.append(word)\n",
    "            if char_count==27:\n",
    "                train_data.append(single_data_entry)\n",
    "                single_data_entry = []\n",
    "                char_count = -1\n",
    "            char_count = char_count +1\n",
    "df_cols = ['Surgery', 'Age','Hospital Number','Rectal Temp', 'Pulse','Respiratory Rate',\n",
    "    'temperature of extremities','peripheral pulse','mucous membranes','capillary refill time','pain','peristalsis','abdominal distension',\n",
    "    'nasogastric tube','nasogastric reflux','nasogastric reflux PH','rectal examination','abdomen','packed cell volume','total protein',\n",
    "    'abdominocentesis appearance','abdomcentesis total protein','outcome','surgical lesion','site of lesion','type of lesion','subtype of lesion','cp_data'\n",
    "    ] \n",
    "            \n",
    "# Create the pandas DataFrame  \n",
    "df = pd.DataFrame(train_data, columns = df_cols)  \n",
    "  "
   ]
  },
  {
   "cell_type": "markdown",
   "metadata": {},
   "source": [
    "## Exploration"
   ]
  },
  {
   "cell_type": "code",
   "execution_count": 3,
   "metadata": {},
   "outputs": [
    {
     "name": "stdout",
     "output_type": "stream",
     "text": [
      "  Surgery Age Hospital Number Rectal Temp Pulse Respiratory Rate  \\\n",
      "0       2   1          530101       38.50    66               28   \n",
      "1       1   1          534817        39.2    88               20   \n",
      "2       2   1          530334       38.30    40               24   \n",
      "\n",
      "  temperature of extremities peripheral pulse mucous membranes  \\\n",
      "0                          3                3                ?   \n",
      "1                          ?                ?                4   \n",
      "2                          1                1                3   \n",
      "\n",
      "  capillary refill time  ... packed cell volume total protein  \\\n",
      "0                     2  ...              45.00          8.40   \n",
      "1                     1  ...                 50            85   \n",
      "2                     1  ...              33.00          6.70   \n",
      "\n",
      "  abdominocentesis appearance abdomcentesis total protein outcome  \\\n",
      "0                           ?                           ?       2   \n",
      "1                           2                           2       3   \n",
      "2                           ?                           ?       1   \n",
      "\n",
      "  surgical lesion site of lesion type of lesion subtype of lesion cp_data  \n",
      "0               2          11300          00000             00000       2  \n",
      "1               2          02208          00000             00000       2  \n",
      "2               2          00000          00000             00000       1  \n",
      "\n",
      "[3 rows x 28 columns]\n"
     ]
    }
   ],
   "source": [
    "# print the dataframe\n",
    "print(df.head(3))"
   ]
  },
  {
   "cell_type": "code",
   "execution_count": 4,
   "metadata": {},
   "outputs": [
    {
     "data": {
      "text/plain": [
       "Surgery                        object\n",
       "Age                            object\n",
       "Hospital Number                object\n",
       "Rectal Temp                    object\n",
       "Pulse                          object\n",
       "Respiratory Rate               object\n",
       "temperature of extremities     object\n",
       "peripheral pulse               object\n",
       "mucous membranes               object\n",
       "capillary refill time          object\n",
       "pain                           object\n",
       "peristalsis                    object\n",
       "abdominal distension           object\n",
       "nasogastric tube               object\n",
       "nasogastric reflux             object\n",
       "nasogastric reflux PH          object\n",
       "rectal examination             object\n",
       "abdomen                        object\n",
       "packed cell volume             object\n",
       "total protein                  object\n",
       "abdominocentesis appearance    object\n",
       "abdomcentesis total protein    object\n",
       "outcome                        object\n",
       "surgical lesion                object\n",
       "site of lesion                 object\n",
       "type of lesion                 object\n",
       "subtype of lesion              object\n",
       "cp_data                        object\n",
       "dtype: object"
      ]
     },
     "execution_count": 4,
     "metadata": {},
     "output_type": "execute_result"
    }
   ],
   "source": [
    "#Checking the datatypes\n",
    "df.dtypes"
   ]
  },
  {
   "cell_type": "code",
   "execution_count": 8,
   "metadata": {},
   "outputs": [
    {
     "name": "stdout",
     "output_type": "stream",
     "text": [
      "Surgery                        0\n",
      "Age                            0\n",
      "Hospital Number                0\n",
      "Rectal Temp                    0\n",
      "Pulse                          0\n",
      "Respiratory Rate               0\n",
      "temperature of extremities     0\n",
      "peripheral pulse               0\n",
      "mucous membranes               0\n",
      "capillary refill time          0\n",
      "pain                           0\n",
      "peristalsis                    0\n",
      "abdominal distension           0\n",
      "nasogastric tube               0\n",
      "nasogastric reflux             0\n",
      "nasogastric reflux PH          0\n",
      "rectal examination             0\n",
      "abdomen                        0\n",
      "packed cell volume             0\n",
      "total protein                  0\n",
      "abdominocentesis appearance    0\n",
      "abdomcentesis total protein    0\n",
      "outcome                        0\n",
      "surgical lesion                0\n",
      "site of lesion                 0\n",
      "type of lesion                 0\n",
      "subtype of lesion              0\n",
      "cp_data                        0\n",
      "dtype: int64\n"
     ]
    }
   ],
   "source": [
    "#checking for null values\n",
    "print(df.isna().sum())"
   ]
  },
  {
   "cell_type": "markdown",
   "metadata": {},
   "source": [
    "### Measures of central tendency"
   ]
  },
  {
   "cell_type": "code",
   "execution_count": 11,
   "metadata": {},
   "outputs": [],
   "source": [
    "import matplotlib.pyplot as plt\n",
    "import seaborn as sns\n",
    "from scipy import stats\n",
    "sns.set(\"notebook\")"
   ]
  },
  {
   "cell_type": "code",
   "execution_count": 9,
   "metadata": {},
   "outputs": [
    {
     "name": "stdout",
     "output_type": "stream",
     "text": [
      "       Surgery  Age Hospital Number Rectal Temp Pulse Respiratory Rate  \\\n",
      "count      300  300             300         300   300              300   \n",
      "unique       3    2             284          66    53               41   \n",
      "top          1    1          528996           ?    48                ?   \n",
      "freq       180  276               2          60    28               58   \n",
      "\n",
      "       temperature of extremities peripheral pulse mucous membranes  \\\n",
      "count                         300              300              300   \n",
      "unique                          5                5                7   \n",
      "top                             3                1                1   \n",
      "freq                          109              115               79   \n",
      "\n",
      "       capillary refill time  ... packed cell volume total protein  \\\n",
      "count                    300  ...                300           300   \n",
      "unique                     4  ...                 81            85   \n",
      "top                        1  ...                  ?             ?   \n",
      "freq                     188  ...                 29            33   \n",
      "\n",
      "       abdominocentesis appearance abdomcentesis total protein outcome  \\\n",
      "count                          300                         300     300   \n",
      "unique                           4                          40       4   \n",
      "top                              ?                           ?       1   \n",
      "freq                           165                         198     178   \n",
      "\n",
      "       surgical lesion site of lesion type of lesion subtype of lesion cp_data  \n",
      "count              300            300            300               300     300  \n",
      "unique               2             61              6                 3       2  \n",
      "top                  1          00000          00000             00000       2  \n",
      "freq               191             56            293               298     201  \n",
      "\n",
      "[4 rows x 28 columns]\n"
     ]
    }
   ],
   "source": [
    "print(df.describe(include='all'))"
   ]
  },
  {
   "cell_type": "code",
   "execution_count": 14,
   "metadata": {},
   "outputs": [],
   "source": [
    "from sklearn.impute import KNNImputer\n",
    "imputer = KNNImputer(n_neighbors=2)\n",
    "\n",
    "from sklearn import preprocessing\n",
    "#label encoding the dataframes\n",
    "le = preprocessing.LabelEncoder()\n",
    "for i in range(len(df_cols)):\n",
    "    le.fit(df[df_cols[i]].astype(str))\n",
    "    df[df_cols[i]] = le.transform(df[df_cols[i]].astype(str))\n",
    "    \n",
    "    \n",
    "df_filled = imputer.fit_transform(df)"
   ]
  },
  {
   "cell_type": "code",
   "execution_count": 15,
   "metadata": {},
   "outputs": [
    {
     "data": {
      "text/plain": [
       "DescribeResult(nobs=300, minmax=(array([0., 0., 0., 0., 0., 0., 0., 0., 0., 0., 0., 0., 0., 0., 0., 0., 0.,\n",
       "       0., 0., 0., 0., 0., 0., 0., 0., 0., 0., 0.]), array([  2.,   1., 283.,  65.,  52.,  40.,   4.,   4.,   6.,   3.,   5.,\n",
       "         4.,   4.,   3.,   3.,  20.,   4.,   5.,  80.,  84.,   3.,  39.,\n",
       "         3.,   1.,  60.,   5.,   2.,   1.])), mean=array([4.03333333e-01, 8.00000000e-02, 1.39010000e+02, 3.90200000e+01,\n",
       "       3.02266667e+01, 1.88233333e+01, 1.84333333e+00, 1.70333333e+00,\n",
       "       2.50333333e+00, 5.93333333e-01, 2.51000000e+00, 2.22333333e+00,\n",
       "       1.77666667e+00, 1.53333333e+00, 1.43666667e+00, 1.81433333e+01,\n",
       "       2.52000000e+00, 3.60000000e+00, 3.96133333e+01, 4.52700000e+01,\n",
       "       2.11666667e+00, 3.08233333e+01, 5.60000000e-01, 3.63333333e-01,\n",
       "       1.93100000e+01, 6.33333333e-02, 1.00000000e-02, 6.70000000e-01]), variance=array([2.48149387e-01, 7.38461538e-02, 6.66154171e+03, 3.08394247e+02,\n",
       "       2.09874872e+02, 1.75871695e+02, 1.95865106e+00, 2.41671126e+00,\n",
       "       4.49162765e+00, 8.97614270e-01, 2.79254181e+00, 1.35798216e+00,\n",
       "       2.06032330e+00, 1.42028986e+00, 1.75851728e+00, 2.28322297e+01,\n",
       "       2.16347826e+00, 2.62207358e+00, 4.78746310e+02, 5.03020502e+02,\n",
       "       1.24721293e+00, 1.71416845e+02, 5.61605351e-01, 2.32095875e-01,\n",
       "       2.69706254e+02, 2.06677815e-01, 1.66220736e-02, 2.21839465e-01]), skewness=array([ 0.47529654,  3.09628108,  0.04749607,  0.10874193, -0.41195004,\n",
       "        0.49218366,  0.11903914,  0.25497507,  0.37332746,  1.64508313,\n",
       "        0.1290042 , -0.37763691,  0.25950758,  0.11681643,  0.07646639,\n",
       "       -2.60445245, -0.65830026, -1.08410979,  0.45194576,  0.22451873,\n",
       "       -0.82255608, -1.22684257,  0.96481491,  0.5683082 ,  0.7437238 ,\n",
       "        8.17136026, 13.83562421, -0.723077  ]), kurtosis=array([-1.56433146e+00,  7.58695652e+00, -1.19293239e+00, -9.29731085e-01,\n",
       "       -5.00755703e-01, -1.10250709e+00, -1.09696620e+00, -1.32666483e+00,\n",
       "       -1.13867802e+00,  1.60962550e+00, -1.21720734e+00, -3.54031321e-01,\n",
       "       -1.23356680e+00, -1.53104106e+00, -1.75255034e+00,  5.46697318e+00,\n",
       "       -9.45849861e-01, -1.42909204e-02, -8.30333915e-01, -8.48011362e-01,\n",
       "       -8.46888025e-01, -1.49767577e-01, -3.93045669e-01, -1.67702579e+00,\n",
       "       -2.88833135e-01,  7.17440092e+01,  1.99134226e+02, -1.47715966e+00]))"
      ]
     },
     "execution_count": 15,
     "metadata": {},
     "output_type": "execute_result"
    }
   ],
   "source": [
    "#Checking for skew and Kurtosis\n",
    "stats.describe(df_filled)"
   ]
  },
  {
   "cell_type": "code",
   "execution_count": 13,
   "metadata": {},
   "outputs": [
    {
     "data": {
      "text/html": [
       "<div>\n",
       "<style scoped>\n",
       "    .dataframe tbody tr th:only-of-type {\n",
       "        vertical-align: middle;\n",
       "    }\n",
       "\n",
       "    .dataframe tbody tr th {\n",
       "        vertical-align: top;\n",
       "    }\n",
       "\n",
       "    .dataframe thead th {\n",
       "        text-align: right;\n",
       "    }\n",
       "</style>\n",
       "<table border=\"1\" class=\"dataframe\">\n",
       "  <thead>\n",
       "    <tr style=\"text-align: right;\">\n",
       "      <th></th>\n",
       "    </tr>\n",
       "  </thead>\n",
       "  <tbody>\n",
       "  </tbody>\n",
       "</table>\n",
       "</div>"
      ],
      "text/plain": [
       "Empty DataFrame\n",
       "Columns: []\n",
       "Index: []"
      ]
     },
     "execution_count": 13,
     "metadata": {},
     "output_type": "execute_result"
    }
   ],
   "source": [
    "#finding pearson correlation between parameters\n",
    "pearson = df.corr(method='pearson')\n",
    "pearson"
   ]
  },
  {
   "cell_type": "code",
   "execution_count": null,
   "metadata": {},
   "outputs": [],
   "source": []
  }
 ],
 "metadata": {
  "kernelspec": {
   "display_name": "Python 3",
   "language": "python",
   "name": "python3"
  },
  "language_info": {
   "codemirror_mode": {
    "name": "ipython",
    "version": 3
   },
   "file_extension": ".py",
   "mimetype": "text/x-python",
   "name": "python",
   "nbconvert_exporter": "python",
   "pygments_lexer": "ipython3",
   "version": "3.8.3"
  }
 },
 "nbformat": 4,
 "nbformat_minor": 4
}
