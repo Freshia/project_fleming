{
 "cells": [
  {
   "cell_type": "code",
   "execution_count": 1,
   "metadata": {},
   "outputs": [],
   "source": [
    "import pandas as pd"
   ]
  },
  {
   "cell_type": "markdown",
   "metadata": {},
   "source": [
    "### Pre-Processing the train data"
   ]
  },
  {
   "cell_type": "code",
   "execution_count": 12,
   "metadata": {},
   "outputs": [
    {
     "name": "stdout",
     "output_type": "stream",
     "text": [
      "  Surgery Age Hospital Number Rectal Temp Pulse Respiratory Rate  \\\n",
      "0       2   1          530101       38.50    66               28   \n",
      "1       1   1          534817        39.2    88               20   \n",
      "2       2   1          530334       38.30    40               24   \n",
      "3       1   9         5290409       39.10   164               84   \n",
      "4       2   1          530255       37.30   104               35   \n",
      "\n",
      "  temperature of extremities peripheral pulse mucous membranes  \\\n",
      "0                          3                3                ?   \n",
      "1                          ?                ?                4   \n",
      "2                          1                1                3   \n",
      "3                          4                1                6   \n",
      "4                          ?                ?                6   \n",
      "\n",
      "  capillary refill time  ... packed cell volume total protein  \\\n",
      "0                     2  ...              45.00          8.40   \n",
      "1                     1  ...                 50            85   \n",
      "2                     1  ...              33.00          6.70   \n",
      "3                     2  ...              48.00          7.20   \n",
      "4                     2  ...              74.00          7.40   \n",
      "\n",
      "  abdominocentesis appearance abdomcentesis total protein outcome  \\\n",
      "0                           ?                           ?       2   \n",
      "1                           2                           2       3   \n",
      "2                           ?                           ?       1   \n",
      "3                           3                        5.30       2   \n",
      "4                           ?                           ?       2   \n",
      "\n",
      "  surgical lesion site of lesion type of lesion subtype of lesion cp_data  \n",
      "0               2          11300          00000             00000       2  \n",
      "1               2          02208          00000             00000       2  \n",
      "2               2          00000          00000             00000       1  \n",
      "3               1          02208          00000             00000       1  \n",
      "4               2          04300          00000             00000       2  \n",
      "\n",
      "[5 rows x 28 columns]\n"
     ]
    }
   ],
   "source": [
    "file_path = \"./horse-colic.data\"\n",
    "\n",
    "char_count = 0\n",
    "\n",
    "train_data =  []\n",
    "single_data_entry = []\n",
    "train_target = []\n",
    "\n",
    "with open(file_path,'r') as f:\n",
    "     for line in f:\n",
    "       split_words = line.split()\n",
    "       for word in split_words:\n",
    "            single_data_entry.append(word)\n",
    "#             if char_count==22:\n",
    "#                 train_target.append(word)\n",
    "#             else: \n",
    "#                 single_data_entry.append(word)\n",
    "            if char_count==27:\n",
    "                train_data.append(single_data_entry)\n",
    "                single_data_entry = []\n",
    "                char_count = -1\n",
    "            char_count = char_count +1\n",
    "df_cols = ['Surgery', 'Age','Hospital Number','Rectal Temp', 'Pulse','Respiratory Rate',\n",
    "    'temperature of extremities','peripheral pulse','mucous membranes','capillary refill time','pain','peristalsis','abdominal distension',\n",
    "    'nasogastric tube','nasogastric reflux','nasogastric reflux PH','rectal examination','abdomen','packed cell volume','total protein',\n",
    "    'abdominocentesis appearance','abdomcentesis total protein','outcome','surgical lesion','site of lesion','type of lesion','subtype of lesion','cp_data'\n",
    "    ] \n",
    "            \n",
    "# Create the pandas DataFrame  \n",
    "df = pd.DataFrame(train_data, columns = df_cols)  \n",
    "  \n",
    "# print dataframe.\n",
    "print(df.head(5) )"
   ]
  },
  {
   "cell_type": "markdown",
   "metadata": {},
   "source": [
    "### Test data pre_processing"
   ]
  },
  {
   "cell_type": "code",
   "execution_count": 22,
   "metadata": {},
   "outputs": [
    {
     "name": "stdout",
     "output_type": "stream",
     "text": [
      "  Surgery Age Hospital Number Rectal Temp Pulse Respiratory Rate  \\\n",
      "0       2   1          530101       38.50    66               28   \n",
      "1       1   1          534817        39.2    88               20   \n",
      "2       2   1          530334       38.30    40               24   \n",
      "3       1   9         5290409       39.10   164               84   \n",
      "4       2   1          530255       37.30   104               35   \n",
      "\n",
      "  temperature of extremities peripheral pulse mucous membranes  \\\n",
      "0                          3                3                ?   \n",
      "1                          ?                ?                4   \n",
      "2                          1                1                3   \n",
      "3                          4                1                6   \n",
      "4                          ?                ?                6   \n",
      "\n",
      "  capillary refill time  ... packed cell volume total protein  \\\n",
      "0                     2  ...              45.00          8.40   \n",
      "1                     1  ...                 50            85   \n",
      "2                     1  ...              33.00          6.70   \n",
      "3                     2  ...              48.00          7.20   \n",
      "4                     2  ...              74.00          7.40   \n",
      "\n",
      "  abdominocentesis appearance abdomcentesis total protein outcome  \\\n",
      "0                           ?                           ?       2   \n",
      "1                           2                           2       3   \n",
      "2                           ?                           ?       1   \n",
      "3                           3                        5.30       2   \n",
      "4                           ?                           ?       2   \n",
      "\n",
      "  surgical lesion site of lesion type of lesion subtype of lesion cp_data  \n",
      "0               2          11300          00000             00000       2  \n",
      "1               2          02208          00000             00000       2  \n",
      "2               2          00000          00000             00000       1  \n",
      "3               1          02208          00000             00000       1  \n",
      "4               2          04300          00000             00000       2  \n",
      "\n",
      "[5 rows x 28 columns]\n",
      "processed test data\n"
     ]
    }
   ],
   "source": [
    "file_path = \"./horse-colic.test\"\n",
    "\n",
    "char_count = 0\n",
    "\n",
    "test_data =  []\n",
    "single_data_entry = []\n",
    "test_target = []\n",
    "\n",
    "with open(file_path,'r') as f:\n",
    "     for line in f:\n",
    "       split_words = line.split()\n",
    "       for word in split_words:\n",
    "            single_data_entry.append(word)\n",
    "#             if char_count==22:\n",
    "#                 test_target.append(word)\n",
    "#             else: \n",
    "#                 single_data_entry.append(word)\n",
    "            if char_count==27:\n",
    "                test_data.append(single_data_entry)\n",
    "                single_data_entry = []\n",
    "                char_count = -1\n",
    "            char_count = char_count +1\n",
    "         \n",
    "# Create the pandas DataFrame  \n",
    "test_df = pd.DataFrame(test_data, columns =df_cols )  \n",
    "  \n",
    "# print dataframe.\n",
    "print(df.head(5) )\n",
    "print(\"processed test data\")\n"
   ]
  },
  {
   "cell_type": "code",
   "execution_count": 16,
   "metadata": {},
   "outputs": [
    {
     "name": "stdout",
     "output_type": "stream",
     "text": [
      "<bound method NDFrame.head of 0     1\n",
      "1     1\n",
      "2     1\n",
      "3     3\n",
      "4     1\n",
      "     ..\n",
      "63    1\n",
      "64    1\n",
      "65    3\n",
      "66    1\n",
      "67    2\n",
      "Name: outcome, Length: 68, dtype: object>\n"
     ]
    }
   ],
   "source": [
    "x_test = test_df.drop(['cp_data'], axis=1)\n",
    "y_test = test_df.outcome\n",
    "print(y_test.head)"
   ]
  },
  {
   "cell_type": "markdown",
   "metadata": {},
   "source": [
    "### Taking care of missing values"
   ]
  },
  {
   "cell_type": "code",
   "execution_count": 17,
   "metadata": {},
   "outputs": [],
   "source": [
    "from sklearn.impute import KNNImputer"
   ]
  },
  {
   "cell_type": "code",
   "execution_count": 18,
   "metadata": {},
   "outputs": [],
   "source": [
    "imputer = KNNImputer(n_neighbors=2)"
   ]
  },
  {
   "cell_type": "code",
   "execution_count": 29,
   "metadata": {},
   "outputs": [
    {
     "name": "stdout",
     "output_type": "stream",
     "text": [
      "   Surgery  Age  Hospital Number  Rectal Temp  Pulse  Respiratory Rate  \\\n",
      "0        1    0              245           29     24                37   \n",
      "1        0    0               76           42     37                32   \n",
      "2        1    0              265           24      7                23   \n",
      "3        0    1              192           41     52                22   \n",
      "4        1    0              256           63      1                 2   \n",
      "\n",
      "   temperature of extremities  peripheral pulse  mucous membranes  \\\n",
      "0                           2                 2                 6   \n",
      "1                           4                 4                 3   \n",
      "2                           0                 0                 2   \n",
      "3                           3                 0                 5   \n",
      "4                           4                 4                 5   \n",
      "\n",
      "   capillary refill time  ...  packed cell volume  total protein  \\\n",
      "0                      1  ...                  21             63   \n",
      "1                      0  ...                  32             75   \n",
      "2                      0  ...                  12             19   \n",
      "3                      1  ...                  29             39   \n",
      "4                      1  ...                  73             42   \n",
      "\n",
      "   abdominocentesis appearance  abdomcentesis total protein  outcome  \\\n",
      "0                            3                           27        1   \n",
      "1                            1                           33        2   \n",
      "2                            3                           27        0   \n",
      "3                            2                           20        1   \n",
      "4                            3                           27        1   \n",
      "\n",
      "   surgical lesion  site of lesion  type of lesion  subtype of lesion  cp_data  \n",
      "0                1              47               0                  0        1  \n",
      "1                1              45               0                  0        1  \n",
      "2                1               0               0                  0        0  \n",
      "3                0              45               0                  0        0  \n",
      "4                1              24               0                  0        1  \n",
      "\n",
      "[5 rows x 28 columns]\n",
      "   Surgery  Age  Hospital Number  Rectal Temp  Pulse  Respiratory Rate  \\\n",
      "0        1    0               22           24     13                 4   \n",
      "1        1    0               11            7     11                 9   \n",
      "2        0    0               63            8      9                 6   \n",
      "3        0    0               56            2     15                 5   \n",
      "4        1    0               24           15      8                 1   \n",
      "\n",
      "   temperature of extremities  peripheral pulse  mucous membranes  \\\n",
      "0                           4                 0                 1   \n",
      "1                           4                 4                 0   \n",
      "2                           4                 3                 2   \n",
      "3                           2                 0                 3   \n",
      "4                           2                 4                 2   \n",
      "\n",
      "   capillary refill time  ...  packed cell volume  total protein  \\\n",
      "0                      1  ...                  16              9   \n",
      "1                      0  ...                  19              9   \n",
      "2                      1  ...                  20             24   \n",
      "3                      1  ...                   6             17   \n",
      "4                      0  ...                  10              3   \n",
      "\n",
      "   abdominocentesis appearance  abdomcentesis total protein  outcome  \\\n",
      "0                            3                           19        0   \n",
      "1                            0                           15        0   \n",
      "2                            2                            5        0   \n",
      "3                            2                            5        2   \n",
      "4                            3                           19        0   \n",
      "\n",
      "   surgical lesion  site of lesion  type of lesion  subtype of lesion  cp_data  \n",
      "0                1              12               0                  0        0  \n",
      "1                1              12               0                  0        0  \n",
      "2                0              15               0                  0        1  \n",
      "3                1               7               1                  0        1  \n",
      "4                1              12               0                  0        1  \n",
      "\n",
      "[5 rows x 28 columns]\n",
      "test\n"
     ]
    }
   ],
   "source": [
    "from sklearn import preprocessing\n",
    "#label encoding the dataframes\n",
    "le = preprocessing.LabelEncoder()\n",
    "for i in range(len(df_cols)):\n",
    "    le.fit(df[df_cols[i]].astype(str))\n",
    "    df[df_cols[i]] = le.transform(df[df_cols[i]].astype(str))\n",
    "    \n",
    "print(df.head(5))\n",
    "for i in range(len(df_cols)):\n",
    "    le.fit(test_df[df_cols[i]].astype(str))\n",
    "    test_df[df_cols[i]] = le.transform(test_df[df_cols[i]].astype(str))\n",
    "    \n",
    "print(test_df.head(5))\n"
   ]
  },
  {
   "cell_type": "code",
   "execution_count": 36,
   "metadata": {},
   "outputs": [],
   "source": [
    "#Replacing the missing values\n",
    "x_train = df.drop(['cp_data'], axis=1)\n",
    "y_train = df.outcome\n",
    "x_test = test_df.drop(['cp_data'], axis=1)\n",
    "y_test = test_df.outcome\n",
    "\n",
    "x_train_filled = imputer.fit_transform(x_train)\n",
    "x_test_filled = imputer.fit_transform(x_test)\n",
    "\n",
    "# df_filled = imputer.fit_transform(df)\n",
    "# test_df_filled = imputer.fit_transform(test_df)"
   ]
  },
  {
   "cell_type": "markdown",
   "metadata": {},
   "source": [
    "Doing the K Nearest Neighbours Classification"
   ]
  },
  {
   "cell_type": "code",
   "execution_count": 8,
   "metadata": {},
   "outputs": [],
   "source": [
    "#Making necessary imports\n",
    "import numpy as np\n",
    "import matplotlib as plt\n",
    "import pandas as pd\n",
    "from sklearn import datasets,preprocessing,neighbors,model_selection\n",
    "from sklearn.model_selection import cross_validate"
   ]
  },
  {
   "cell_type": "code",
   "execution_count": 38,
   "metadata": {},
   "outputs": [
    {
     "data": {
      "text/plain": [
       "KNeighborsClassifier()"
      ]
     },
     "execution_count": 38,
     "metadata": {},
     "output_type": "execute_result"
    }
   ],
   "source": [
    "#the classifier\n",
    "# x_train = np.array(train_data)\n",
    "# y_train = np.array(train_target)\n",
    "clf = neighbors.KNeighborsClassifier()\n",
    "clf.fit(x_train_filled, y_train)"
   ]
  },
  {
   "cell_type": "code",
   "execution_count": 40,
   "metadata": {},
   "outputs": [
    {
     "name": "stdout",
     "output_type": "stream",
     "text": [
      "0.6911764705882353\n"
     ]
    }
   ],
   "source": [
    "#Accuracy test\n",
    "# x_test = np.array(test_data)\n",
    "# y_test = np.array(test_target)\n",
    "accuracy = clf.score(x_test_filled, y_test)\n",
    "print(accuracy)"
   ]
  },
  {
   "cell_type": "markdown",
   "metadata": {},
   "source": [
    "## Random Forests"
   ]
  },
  {
   "cell_type": "code",
   "execution_count": 41,
   "metadata": {},
   "outputs": [],
   "source": [
    "# Import the model we are using\n",
    "from sklearn.ensemble import RandomForestRegressor\n",
    "# Instantiate model with 1000 decision trees\n",
    "rf = RandomForestRegressor(n_estimators = 1000, random_state = 42)"
   ]
  },
  {
   "cell_type": "code",
   "execution_count": 43,
   "metadata": {},
   "outputs": [],
   "source": [
    "# Train the model on training data\n",
    "rf.fit(x_train_filled, y_train);"
   ]
  },
  {
   "cell_type": "code",
   "execution_count": 44,
   "metadata": {},
   "outputs": [
    {
     "name": "stdout",
     "output_type": "stream",
     "text": [
      "Mean Absolute Error: 0.01 degrees.\n"
     ]
    }
   ],
   "source": [
    "# Use the forest's predict method on the test data\n",
    "predictions = rf.predict(x_test_filled)\n",
    "# Calculate the absolute errors\n",
    "errors = abs(predictions - y_test)\n",
    "# Print out the mean absolute error (mae)\n",
    "print('Mean Absolute Error:', round(np.mean(errors), 2), 'degrees.')"
   ]
  },
  {
   "cell_type": "code",
   "execution_count": 45,
   "metadata": {},
   "outputs": [
    {
     "name": "stdout",
     "output_type": "stream",
     "text": [
      "Accuracy: 99.37 %.\n"
     ]
    }
   ],
   "source": [
    "# calculating acuracy in percentage\n",
    "# Calculate mean absolute percentage error (MAPE)\n",
    "mape = 100 * (errors / y_test)\n",
    "# Calculate and display accuracy\n",
    "accuracy = 100 - np.mean(mape)\n",
    "print('Accuracy:', round(accuracy, 2), '%.')"
   ]
  },
  {
   "cell_type": "code",
   "execution_count": null,
   "metadata": {},
   "outputs": [],
   "source": []
  }
 ],
 "metadata": {
  "kernelspec": {
   "display_name": "Python 3",
   "language": "python",
   "name": "python3"
  },
  "language_info": {
   "codemirror_mode": {
    "name": "ipython",
    "version": 3
   },
   "file_extension": ".py",
   "mimetype": "text/x-python",
   "name": "python",
   "nbconvert_exporter": "python",
   "pygments_lexer": "ipython3",
   "version": "3.8.3"
  }
 },
 "nbformat": 4,
 "nbformat_minor": 4
}
